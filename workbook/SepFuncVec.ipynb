{
 "cells": [
  {
   "cell_type": "markdown",
   "metadata": {
    "deletable": true,
    "editable": true
   },
   "source": [
    "This version contains aprop_vec and the new aprop_vec_sepfunc, along with all of the separate sub-functions used in aprop_sepfunc.\n",
    "Cleaned up the comments a bit in the new functions as well. \n",
    "\n",
    "Separating out the functions increased the speed!"
   ]
  },
  {
   "cell_type": "code",
   "execution_count": 6,
   "metadata": {
    "collapsed": false,
    "deletable": true,
    "editable": true
   },
   "outputs": [],
   "source": [
    "import numpy as np\n",
    "import scipy.spatial\n",
    "import matplotlib.pyplot as plt\n",
    "from IPython.core.interactiveshell import InteractiveShell\n",
    "InteractiveShell.ast_node_interactivity = \"all\"\n",
    "import cython\n",
    "import numba\n",
    "import numexpr as ne"
   ]
  },
  {
   "cell_type": "code",
   "execution_count": 56,
   "metadata": {
    "collapsed": true,
    "deletable": true,
    "editable": true
   },
   "outputs": [],
   "source": [
    "# simulated data to use for clustering\n",
    "\n",
    "C1 = np.random.multivariate_normal(mean=[0,0], cov=np.eye(2), size=15)\n",
    "C2 = np.random.multivariate_normal(mean=[4,4], cov=np.eye(2), size=15)\n",
    "mydata = np.r_[C1, C2]"
   ]
  },
  {
   "cell_type": "code",
   "execution_count": 48,
   "metadata": {
    "collapsed": false
   },
   "outputs": [
    {
     "ename": "TypeError",
     "evalue": "create_s_matrix() got multiple values for argument 'num_cluster_pref'",
     "output_type": "error",
     "traceback": [
      "\u001b[0;31m---------------------------------------------------------------------------\u001b[0m",
      "\u001b[0;31mTypeError\u001b[0m                                 Traceback (most recent call last)",
      "\u001b[0;32m<ipython-input-48-c58da0351cef>\u001b[0m in \u001b[0;36m<module>\u001b[0;34m\u001b[0m\n\u001b[1;32m     10\u001b[0m     \u001b[0;31m# same as the above except diagonal entries (IE self-preferences) are set to special values\u001b[0m\u001b[0;34m\u001b[0m\u001b[0;34m\u001b[0m\u001b[0m\n\u001b[1;32m     11\u001b[0m     \u001b[0;31m# depending on num_cluster_pref\u001b[0m\u001b[0;34m\u001b[0m\u001b[0;34m\u001b[0m\u001b[0m\n\u001b[0;32m---> 12\u001b[0;31m \u001b[0mcurrent_method\u001b[0m \u001b[0;34m=\u001b[0m \u001b[0mcreate_s_matrix\u001b[0m\u001b[0;34m(\u001b[0m\u001b[0mmydata\u001b[0m\u001b[0;34m,\u001b[0m \u001b[0mnum_data_pts\u001b[0m\u001b[0;34m,\u001b[0m  \u001b[0ms_metric_matrix\u001b[0m\u001b[0;34m,\u001b[0m\u001b[0mnum_cluster_pref\u001b[0m\u001b[0;34m=\u001b[0m\u001b[0;36m1\u001b[0m\u001b[0;34m)\u001b[0m\u001b[0;34m\u001b[0m\u001b[0m\n\u001b[0m\u001b[1;32m     13\u001b[0m \u001b[0;34m\u001b[0m\u001b[0m\n\u001b[1;32m     14\u001b[0m \u001b[0;31m#current_method = create_s_matrix(mydata,mydata.shape[0] )\u001b[0m\u001b[0;34m\u001b[0m\u001b[0;34m\u001b[0m\u001b[0m\n",
      "\u001b[0;31mTypeError\u001b[0m: create_s_matrix() got multiple values for argument 'num_cluster_pref'"
     ]
    }
   ],
   "source": [
    "np.random.seed(0)\n",
    "mydata = np.random.rand(4,2)\n",
    "num_data_pts = mydata.shape[0]\n",
    "\n",
    "    \n",
    "    \n",
    "    # matrix of all the poitwise distances as measured by the metric s\n",
    "s_metric_matrix = create_s_metric_matrix(mydata)\n",
    "\n",
    "    # same as the above except diagonal entries (IE self-preferences) are set to special values \n",
    "    # depending on num_cluster_pref\n",
    "current_method = create_s_matrix(mydata, num_data_pts, num_cluster_pref=1, s_metric_matrix)\n",
    "          \n",
    "#current_method = create_s_matrix(mydata,mydata.shape[0] )\n",
    "current_method"
   ]
  },
  {
   "cell_type": "code",
   "execution_count": 19,
   "metadata": {
    "collapsed": false
   },
   "outputs": [
    {
     "name": "stdout",
     "output_type": "stream",
     "text": [
      "213 µs ± 5.2 µs per loop (mean ± std. dev. of 3 runs, 1000 loops each)\n"
     ]
    }
   ],
   "source": [
    "%timeit -r3 create_s_metric_matrix(mydata)"
   ]
  },
  {
   "cell_type": "code",
   "execution_count": 35,
   "metadata": {
    "collapsed": false
   },
   "outputs": [
    {
     "data": {
      "text/plain": [
       "array([[-0.14761571, -0.03191478, -0.02046653, -0.04355307],\n",
       "       [-0.03191478, -0.14761571, -0.04228309, -0.14761571],\n",
       "       [-0.02046653, -0.04228309, -0.14761571, -0.06065054],\n",
       "       [-0.04355307, -0.14761571, -0.06065054, -0.14761571]])"
      ]
     },
     "execution_count": 35,
     "metadata": {},
     "output_type": "execute_result"
    }
   ],
   "source": [
    "calc_similarity_matrix(mydata,, s_metric_matrix)"
   ]
  },
  {
   "cell_type": "code",
   "execution_count": 20,
   "metadata": {
    "collapsed": true
   },
   "outputs": [],
   "source": [
    "from scipy.spatial.distance import cdist\n",
    "def calc_neg_euclidean(mydata):\n",
    "    return - cdist(mydata, mydata, 'euclidean')** 2"
   ]
  },
  {
   "cell_type": "code",
   "execution_count": 34,
   "metadata": {
    "collapsed": true
   },
   "outputs": [],
   "source": [
    "def calc_similarity_matrix(mydata, num_cluster_pref=1):\n",
    "    neg_euc_dist = - cdist(mydata, mydata, 'euclidean') ** 2\n",
    "    pref = np.min(current_method) if num_cluster_pref == 1 else np.median(\n",
    "        current_method)\n",
    "    np.fill_diagonal(neg_euc_dist, pref)\n",
    "    return neg_euc_dist"
   ]
  },
  {
   "cell_type": "code",
   "execution_count": null,
   "metadata": {
    "collapsed": true
   },
   "outputs": [],
   "source": []
  },
  {
   "cell_type": "code",
   "execution_count": null,
   "metadata": {
    "collapsed": true
   },
   "outputs": [],
   "source": []
  },
  {
   "cell_type": "code",
   "execution_count": 16,
   "metadata": {
    "collapsed": true,
    "deletable": true,
    "editable": true
   },
   "outputs": [],
   "source": [
    "def s_metric(i,k, mydata): \n",
    "    \n",
    "    # measure negative euclidean distance squared\n",
    "    \n",
    "    return -np.linalg.norm(mydata[i] - mydata[k])**2"
   ]
  },
  {
   "cell_type": "code",
   "execution_count": 13,
   "metadata": {
    "collapsed": true,
    "deletable": true,
    "editable": true
   },
   "outputs": [],
   "source": [
    "def create_s_metric_matrix(mydata):\n",
    "    \n",
    "    # create a matrix of all pointwise distances between a list of data points\n",
    "    # using s_metric function as your measure\n",
    "    num_data_pts=mydata.shape[0]\n",
    "    s_metric_matrix = np.zeros(num_data_pts * num_data_pts).reshape((num_data_pts, num_data_pts))\n",
    "    for i in range(num_data_pts):\n",
    "        for k in range(num_data_pts):\n",
    "            s_metric_matrix[i,k] = s_metric(i, k, mydata)\n",
    "    return s_metric_matrix"
   ]
  },
  {
   "cell_type": "code",
   "execution_count": 46,
   "metadata": {
    "collapsed": true,
    "deletable": true,
    "editable": true
   },
   "outputs": [],
   "source": [
    "def s(i, k, mydata, num_cluster_pref, s_metric_matrix):\n",
    "    \n",
    "    # a measure for s_matrix:\n",
    "    # same measure, s, as for s_metric matrix for any two distinct data points\n",
    "    # for the measure of a data point with itself, \n",
    "    # use either the minimum or median s_metrix distance among all distinct point pairs,\n",
    "    # depending on num_cluster_pref\n",
    "    \n",
    "    min_dist = np.matrix(s_metric_matrix).min()\n",
    "    med_dist = np.median(s_metric_matrix)\n",
    "    if i==k and num_cluster_pref==1: \n",
    "        return min_dist\n",
    "    elif i==k:\n",
    "        return med_dist\n",
    "    else: \n",
    "        return s_metric(i, k, mydata) "
   ]
  },
  {
   "cell_type": "code",
   "execution_count": 41,
   "metadata": {
    "collapsed": false,
    "deletable": true,
    "editable": true
   },
   "outputs": [],
   "source": [
    "def create_s_matrix(mydata, num_data_pts, num_cluster_pref, s_metric_matrix):\n",
    "    \n",
    "    # matrix of pointwise distances, this time using s instead of s_metric\n",
    "    \n",
    "    s_matrix = np.zeros(num_data_pts * num_data_pts).reshape((num_data_pts, num_data_pts))\n",
    "    for i in range(num_data_pts):\n",
    "        for k in range(num_data_pts):\n",
    "            s_matrix[i,k] = s(i, k, mydata, num_cluster_pref, s_metric_matrix)\n",
    "    return s_matrix"
   ]
  },
  {
   "cell_type": "code",
   "execution_count": 61,
   "metadata": {
    "collapsed": true,
    "deletable": true,
    "editable": true
   },
   "outputs": [],
   "source": [
    "def init_r_array(num_data_pts, s_matrix):\n",
    "    \n",
    "    # compute r(i,k) values for iteration 0\n",
    "    \n",
    "    max_matrix = np.zeros(num_data_pts * num_data_pts).reshape((num_data_pts, num_data_pts)) \n",
    "    for i in range(num_data_pts): \n",
    "        for k in range(num_data_pts): \n",
    "            s_matrix_mask = np.ma.array(s_matrix, mask=False)\n",
    "            s_matrix_mask.mask[i,k] = True \n",
    "            max_matrix[i,k] = np.max(s_matrix_mask[i,:]) \n",
    "    r_array_0 = s_matrix - max_matrix\n",
    "    return r_array_0"
   ]
  },
  {
   "cell_type": "code",
   "execution_count": 62,
   "metadata": {
    "collapsed": true,
    "deletable": true,
    "editable": true
   },
   "outputs": [],
   "source": [
    "def a_array_update(num_data_pts, niter, r_array, damp_c, a_array):\n",
    "    \n",
    "    # update a(i,k) values for iteration #niter\n",
    "    \n",
    "    for i in range(num_data_pts):\n",
    "        for k in range(num_data_pts):\n",
    "                if i != k:\n",
    "                    temp_vec = np.ones(num_data_pts)\n",
    "                    temp_vec[k] = 0\n",
    "                    temp_vec[i] = 0\n",
    "                    temp_vec[r_array[niter-1, :, k]<0] = 0\n",
    "                    a_ik_sum = np.dot(r_array[niter-1, :, k], temp_vec) \n",
    "                    for_min = np.concatenate((r_array[niter-1,k,k] + a_ik_sum, np.zeros(1)), axis=None)\n",
    "                    update_term = np.min(for_min)\n",
    "                    a_array[niter,i,k] = damp_c * update_term + (1-damp_c) * a_array[niter-1,i,k]\n",
    "                else:\n",
    "                    temp_vec = np.ones(num_data_pts)\n",
    "                    temp_vec[k] = 0\n",
    "                    temp_vec[r_array[niter-1, :, k]<0] = 0\n",
    "                    a_ik_sum = np.dot(r_array[niter-1, :, k], temp_vec) \n",
    "                    update_term = a_ik_sum\n",
    "                    a_array[niter,i,k] = damp_c * update_term + (1-damp_c) * a_array[niter-1,i,k]\n",
    "    return a_array[niter]"
   ]
  },
  {
   "cell_type": "code",
   "execution_count": 63,
   "metadata": {
    "collapsed": true,
    "deletable": true,
    "editable": true
   },
   "outputs": [],
   "source": [
    "def r_array_update(num_data_pts, niter, a_array, s_matrix, damp_c, r_array):\n",
    "\n",
    "    # update a(i,k) values for iteration #niter\n",
    "    \n",
    "    for i in range(num_data_pts):\n",
    "        for k in range(num_data_pts):\n",
    "            s_a_array_sum = a_array[niter] + s_matrix\n",
    "            s_a_array_sum_mask = np.ma.array(s_a_array_sum, mask=False)\n",
    "            s_a_array_sum_mask.mask[:,k] = True\n",
    "            s_a_array_sum_max = np.max(s_a_array_sum_mask[i,:])\n",
    "            update_term = s_matrix[i,k] - s_a_array_sum_max\n",
    "            r_array[niter,i,k] = damp_c * update_term + (1-damp_c) * r_array[niter-1,i,k]\n",
    "    return r_array[niter]"
   ]
  },
  {
   "cell_type": "code",
   "execution_count": 64,
   "metadata": {
    "collapsed": true,
    "deletable": true,
    "editable": true
   },
   "outputs": [],
   "source": [
    "# function definition - not vectorized\n",
    "\n",
    "def aprop_vec_sepfunc(mydata, num_cluster_pref=1, iterations=100, damp_c=0.5, num_stable_iters=10):\n",
    "    \n",
    "    # data input error messages\n",
    "    if mydata.shape[1] != 2:\n",
    "        raise ValueError(\"S must have two columns.\")\n",
    "    if num_cluster_pref != 1 and num_cluster_pref != 2:\n",
    "        raise ValueError(\"Enter valid indication (1 or 2) of cluster number preference.\")\n",
    "    if iterations <1 or type(iterations) != int:\n",
    "        raise ValueError(\"Enter a valid number of iterations.\")\n",
    "    if damp_c <= 0 or damp_c > 1:\n",
    "        raise ValueError(\"Enter a valid damping constant.\")\n",
    "    if num_stable_iters < 1 or num_stable_iters > iterations or type(num_stable_iters) != int:\n",
    "        raise ValueError(\"Enter a valid number of iterations to check for stability.\")\n",
    "    \n",
    "    # count number of data points, IE number rows in mydata\n",
    "    num_data_pts = mydata.shape[0]\n",
    "\n",
    "    # matrix of all the poitwise distances as measured by the metric s\n",
    "    s_metric_matrix = create_s_metric_matrix(mydata, num_data_pts)\n",
    "\n",
    "    # same as the above except diagonal entries (IE self-preferences) are set to special values \n",
    "    # depending on num_cluster_pref\n",
    "    s_matrix = create_s_matrix(mydata, num_data_pts, num_cluster_pref, s_metric_matrix)\n",
    "            \n",
    "    # initialize a_array: a(i,k) = 0 at 0th iteration\n",
    "    a_array = np.zeros(num_data_pts * num_data_pts * (iterations)).reshape((iterations, num_data_pts, num_data_pts))\n",
    "\n",
    "    # initialize r_array \n",
    "    r_array = np.zeros(num_data_pts * num_data_pts * (iterations)).reshape((iterations, num_data_pts, num_data_pts))\n",
    "\n",
    "    # fill in r_array values for 0th iteration\n",
    "    r_array[0] = init_r_array(num_data_pts, s_matrix)\n",
    "    \n",
    "    ### iterative loop for iterations 1+ \n",
    "\n",
    "    # define tracker variables for checking for stability\n",
    "    clusters_prev = np.zeros(num_data_pts)\n",
    "    clusters_prev_2 = np.zeros(num_data_pts)\n",
    "    iter_stability = np.zeros(iterations)\n",
    "\n",
    "    \n",
    "    for niter in range(1,iterations):\n",
    "\n",
    "        # update a and r arrays at each iteration\n",
    "        a_array[niter] = a_array_update(num_data_pts, niter, r_array, damp_c, a_array)\n",
    "        r_array[niter] = r_array_update(num_data_pts, niter, a_array, s_matrix, damp_c, r_array)\n",
    "                \n",
    "        r_s_sum_array = r_array[niter] + a_array[niter]\n",
    "\n",
    "        # results of each iteration's clustering attempt\n",
    "        clusters = np.argmax(r_s_sum_array, axis=1) # the list points grouped by their assigned center\n",
    "        centers = np.where(np.argmax(r_s_sum_array, axis=1) == np.array(range(num_data_pts))) # the points that are centers\n",
    "        is_center = np.argmax(r_s_sum_array, axis=1) == np.array(range(num_data_pts)) # true if pt is a center, false otherwise\n",
    "        \n",
    "        # record whether this iteration's clustering is the same as in previous iteration\n",
    "        if np.array_equal(clusters, clusters_prev): \n",
    "            iter_stability[niter] = 1 \n",
    "        \n",
    "        # if you have seen enough identical clusterings in a row,\n",
    "        # create a scatterplot illustrating the results \n",
    "        # and break the iteration loop and return the final clustering results\n",
    "        if niter>num_stable_iters and np.all(iter_stability[niter-num_stable_iters:niter]==1): \n",
    "            plt.scatter(mydata[:,0], mydata[:,1], c=np.argmax(r_s_sum_array, axis=1), s = 200)\n",
    "            plt.scatter(mydata[:,0][is_center], mydata[:,1][is_center], marker='+', s=350, c='black')\n",
    "            cluster_plot = plt.show()\n",
    "            exemplars=centers[0]\n",
    "            num_clusters = len(np.unique(clusters))\n",
    "            final_iter = niter+1\n",
    "            return clusters, exemplars, cluster_plot, num_clusters, final_iter\n",
    "            break \n",
    "            \n",
    "        # if you have not seen enough identical clusterings in a row by the final iteration,\n",
    "        # just print a message\n",
    "        elif niter == iterations-1:\n",
    "            print(\"Stability not acheived. Consider reducing num_stable_iters.\")\n",
    "            \n",
    "        # track the previous cluster, for checking stability in next iteration\n",
    "        clusters_prev = clusters\n",
    "\n"
   ]
  },
  {
   "cell_type": "code",
   "execution_count": 65,
   "metadata": {
    "collapsed": false,
    "deletable": true,
    "editable": true
   },
   "outputs": [
    {
     "data": {
      "image/png": "[encoded data removed]",
      "text/plain": [
       "<Figure size 432x288 with 1 Axes>"
      ]
     },
     "metadata": {},
     "output_type": "display_data"
    },
    {
     "name": "stdout",
     "output_type": "stream",
     "text": [
      "CPU times: user 3.39 s, sys: 192 ms, total: 3.58 s\n",
      "Wall time: 3.34 s\n"
     ]
    },
    {
     "data": {
      "text/plain": [
       "(array([13, 13, 13, 13, 13, 13, 13, 13, 13, 13, 13, 13, 13, 13, 13, 22, 22,\n",
       "        22, 22, 22, 22, 22, 22, 22, 22, 22, 22, 22, 22, 22]),\n",
       " array([13, 22]),\n",
       " None,\n",
       " 2,\n",
       " 26)"
      ]
     },
     "execution_count": 65,
     "metadata": {},
     "output_type": "execute_result"
    }
   ],
   "source": [
    "%%time\n",
    "\n",
    "aprop_vec_sepfunc(mydata)"
   ]
  },
  {
   "cell_type": "code",
   "execution_count": 66,
   "metadata": {
    "collapsed": true,
    "deletable": true,
    "editable": true
   },
   "outputs": [],
   "source": [
    "# function definition - vectorized\n",
    "\n",
    "def aprop_vec(mydata, num_cluster_pref=1, iterations=100, damp_c=0.5, num_stable_iters=10):\n",
    "    \n",
    "    \"\"\"\n",
    "    Perform clustering by affinity propagation. \n",
    "    \n",
    "    \n",
    "    Parameters\n",
    "    ----------\n",
    "    \n",
    "    mydata : array-like, shape (num_data_pts, 2)\n",
    "        Data set for clustering.\n",
    "        \n",
    "    num_cluster_pref : int (1 or 2), optional, default: 1\n",
    "        Indication of whether the input similarities are set to the minimum similarity measure \n",
    "        (IE, negative squared Euclidean distance) between the data points (num_cluster_pref = 1), \n",
    "        or the median similarity measure (num_cluster_pref = 2).\n",
    "        \n",
    "    iterations : int, optional, default: 100\n",
    "        Maximum number of iterations to run affinity propagation.\n",
    "    \n",
    "    damp_c : float, optional, default: 0.5\n",
    "        Damping constant. The weight given to the updating iteration; between 0 and 1.\n",
    "        \n",
    "    num_stable_iters : int, optional, default: 10\n",
    "        The algorithm stops if the clusterings at each iteration have remained unchanged for \n",
    "        this many iterations in a row.\n",
    "        \n",
    "       \n",
    "    Returns\n",
    "    -------\n",
    "    \n",
    "    clusters : array, shape (num_data_pts, 1)\n",
    "        For the index of each data point, gives that data point's exemplar.\n",
    "    \n",
    "    exemplars : array, shape(num_exemplars, 1)\n",
    "        List the indices of the data points that are exemplars.\n",
    "    \n",
    "    cluster_plot : figure\n",
    "        Scatter plot of the data, with points in the same cluster hacing the same color, and\n",
    "        exemplars marked with plus-signs.\n",
    "        \n",
    "    num_clusters : int\n",
    "        Number of clusters in final clustering.\n",
    "        \n",
    "    final_iter : int\n",
    "        Number of iterations that were run before the algorithm stopped.\n",
    "        \n",
    "        \n",
    "    Notes\n",
    "    -----\n",
    "    \n",
    "    Input preferences should be set to the minimum similarity measure when a small number of clusters\n",
    "    is preferred, and to the median similarity measure when a moderate number of clusters is \n",
    "    preferred.\n",
    "    \n",
    "    If stability is not acheived, the aglorithm does not output the returned objects but \n",
    "    rather prints an error message: \"Stability not acheived. Consider reducing num_stable_iters.\"\n",
    "    \n",
    "    \n",
    "    References\n",
    "    ----------\n",
    "    \n",
    "    Brendan J. Frey and Delbert Dueck, \"Clustering by Passing Messages\n",
    "    Between Data Points\", Science Feb. 2007\n",
    "    \n",
    "    \"\"\"\n",
    "    \n",
    "    # data input error messages\n",
    "    if mydata.shape[1] != 2:\n",
    "        raise ValueError(\"S must have two columns.\")\n",
    "    if num_cluster_pref != 1 and num_cluster_pref != 2:\n",
    "        raise ValueError(\"Enter valid indication (1 or 2) of cluster number preference.\")\n",
    "    if iterations <1 or type(iterations) != int:\n",
    "        raise ValueError(\"Enter a valid number of iterations.\")\n",
    "    if damp_c <= 0 or damp_c > 1:\n",
    "        raise ValueError(\"Enter a valid damping constant.\")\n",
    "    if num_stable_iters < 1 or num_stable_iters > iterations or type(num_stable_iters) != int:\n",
    "        raise ValueError(\"Enter a valid number of iterations to check for stability.\")\n",
    "    \n",
    "    # count number of data points, IE number rows in mydata\n",
    "    num_data_pts = mydata.shape[0]\n",
    "    \n",
    "    s_metric_matrix = create_s_metric_matrix(mydata, num_data_pts)\n",
    "\n",
    "    s_matrix = create_s_matrix(mydata, num_data_pts, num_cluster_pref, s_metric_matrix)\n",
    "            \n",
    "            \n",
    "    # a(i,k) = 0 at first iteration\n",
    "    a_array = np.zeros(num_data_pts * num_data_pts * (iterations)).reshape((iterations, num_data_pts, num_data_pts))\n",
    "\n",
    "    # initialize r_array \n",
    "    r_array = np.zeros(num_data_pts * num_data_pts * (iterations)).reshape((iterations, num_data_pts, num_data_pts))\n",
    "\n",
    "    # fill in r_array values for 0th iteration \n",
    "    ## edit\n",
    "    max_matrix = np.zeros(num_data_pts * num_data_pts).reshape((num_data_pts, num_data_pts)) # initialize\n",
    "    for i in range(num_data_pts): # for each row i\n",
    "        for k in range(num_data_pts): # for each col k\n",
    "            # mask the (i,k)th element in similarity matrix\n",
    "            s_matrix_mask = np.ma.array(s_matrix, mask=False)\n",
    "            s_matrix_mask.mask[i,k] = True # mask item (i,k)\n",
    "            max_matrix[i,k] = np.max(s_matrix_mask[i,:]) # get max in row i, but without item (i,k)\n",
    "\n",
    "    r_array[0] = s_matrix - max_matrix\n",
    "    \n",
    "    ### iterative loop for iterations 1+ \n",
    "\n",
    "    clusters_prev = np.zeros(num_data_pts)\n",
    "    iter_stability = np.zeros(iterations)\n",
    "\n",
    "    for niter in range(1,iterations):\n",
    "\n",
    "        # a_array update\n",
    "        for i in range(num_data_pts):\n",
    "            for k in range(num_data_pts):\n",
    "                    if i != k:\n",
    "                        ### BEGIN: code edited for vectorization\n",
    "                        # temp_vec is a vector of ones for each data point, except zeros for the ones that ashould be masked\n",
    "                        temp_vec = np.ones(num_data_pts)\n",
    "                        temp_vec[k] = 0\n",
    "                        temp_vec[i] = 0\n",
    "                        temp_vec[r_array[niter-1, :, k]<0] = 0\n",
    "                        a_ik_sum = np.dot(r_array[niter-1, :, k], temp_vec) # do the summation using a dot product, instead of the masking process used previously for computing each individual entry\n",
    "                        ### END: code edited for vectorization\n",
    "                        for_min = np.concatenate((r_array[niter-1,k,k] + a_ik_sum, np.zeros(1)), axis=None)\n",
    "                        update_term = np.min(for_min)\n",
    "                        a_array[niter,i,k] = damp_c * update_term + (1-damp_c) * a_array[niter-1,i,k]\n",
    "                    else:\n",
    "                        ### BEGIN: code edited for vectorization\n",
    "                        temp_vec = np.ones(num_data_pts)\n",
    "                        temp_vec[k] = 0\n",
    "                        temp_vec[r_array[niter-1, :, k]<0] = 0\n",
    "                        a_ik_sum = np.dot(r_array[niter-1, :, k], temp_vec) # do the summation using a dot product, instead of the masking process used previously for computing each individual entry\n",
    "                        ### END: code edited for vectorization\n",
    "                        update_term = a_ik_sum\n",
    "                        a_array[niter,i,k] = damp_c * update_term + (1-damp_c) * a_array[niter-1,i,k]\n",
    "                        \n",
    "        # r_array update\n",
    "        for i in range(num_data_pts):\n",
    "            for k in range(num_data_pts):\n",
    "                s_a_array_sum = a_array[niter] + s_matrix\n",
    "                temp_vec = np.ones(num_data_pts)\n",
    "                temp_vec[k] = 0\n",
    "                s_a_array_sum_max = np.max(np.dot(s_a_array_sum[i,:], temp_vec))\n",
    "                s_a_array_sum_mask = np.ma.array(s_a_array_sum, mask=False)\n",
    "                s_a_array_sum_mask.mask[:,k] = True\n",
    "                s_a_array_sum_max = np.max(s_a_array_sum_mask[i,:])\n",
    "                update_term = s_matrix[i,k] - s_a_array_sum_max\n",
    "                r_array[niter,i,k] = damp_c * update_term + (1-damp_c) * r_array[niter-1,i,k]\n",
    "        r_s_sum_array = r_array[niter] + a_array[niter]\n",
    "\n",
    "        # print illustration of first clustering that remains stable over two iterations\n",
    "        # centers marked by black plus signs\n",
    "        # points assigned to same center have same color\n",
    "        if niter > 0: \n",
    "            clusters = np.argmax(r_s_sum_array, axis=1) # the list points grouped by their assigned center\n",
    "            centers = np.where(np.argmax(r_s_sum_array, axis=1) == np.array(range(num_data_pts))) # the points that are centers\n",
    "            is_center = np.argmax(r_s_sum_array, axis=1) == np.array(range(num_data_pts)) # true if pt is a center, false otherwise\n",
    "            if np.array_equal(clusters, clusters_prev): # if the clustering in this iteration is the same as the previous one\n",
    "                iter_stability[niter] = 1 \n",
    "            if niter>num_stable_iters and np.all(iter_stability[niter-num_stable_iters:niter]==1): # if you have seen enough of the same clusterings in a row\n",
    "                plt.scatter(mydata[:,0], mydata[:,1], c=np.argmax(r_s_sum_array, axis=1), s = 200)\n",
    "                plt.scatter(mydata[:,0][is_center], mydata[:,1][is_center], marker='+', s=350, c='black')\n",
    "                cluster_plot = plt.show()\n",
    "                exemplars=centers[0]\n",
    "                num_clusters = len(np.unique(clusters))\n",
    "                final_iter = niter+1\n",
    "                return clusters, exemplars, cluster_plot, num_clusters, final_iter\n",
    "                break \n",
    "            elif niter == iterations-1:\n",
    "                print(\"Stability not acheived. Consider reducing num_stable_iters.\")\n",
    "            clusters_prev = clusters\n",
    "\n"
   ]
  },
  {
   "cell_type": "code",
   "execution_count": 67,
   "metadata": {
    "collapsed": false,
    "deletable": true,
    "editable": true
   },
   "outputs": [
    {
     "data": {
      "image/png": "[encoded data removed]",
      "text/plain": [
       "<Figure size 432x288 with 1 Axes>"
      ]
     },
     "metadata": {},
     "output_type": "display_data"
    },
    {
     "name": "stdout",
     "output_type": "stream",
     "text": [
      "CPU times: user 4.08 s, sys: 216 ms, total: 4.3 s\n",
      "Wall time: 4.03 s\n"
     ]
    },
    {
     "data": {
      "text/plain": [
       "(array([13, 13, 13, 13, 13, 13, 13, 13, 13, 13, 13, 13, 13, 13, 13, 22, 22,\n",
       "        22, 22, 22, 22, 22, 22, 22, 22, 22, 22, 22, 22, 22]),\n",
       " array([13, 22]),\n",
       " None,\n",
       " 2,\n",
       " 26)"
      ]
     },
     "execution_count": 67,
     "metadata": {},
     "output_type": "execute_result"
    }
   ],
   "source": [
    "%%time\n",
    "\n",
    "# check time for vectorized code\n",
    "aprop_vec(mydata=mydata)"
   ]
  },
  {
   "cell_type": "code",
   "execution_count": null,
   "metadata": {
    "collapsed": true,
    "deletable": true,
    "editable": true
   },
   "outputs": [],
   "source": []
  }
 ],
 "metadata": {
  "kernelspec": {
   "display_name": "Python 3",
   "language": "python",
   "name": "python3"
  },
  "language_info": {
   "codemirror_mode": {
    "name": "ipython",
    "version": 3
   },
   "file_extension": ".py",
   "mimetype": "text/x-python",
   "name": "python",
   "nbconvert_exporter": "python",
   "pygments_lexer": "ipython3",
   "version": "3.6.0"
  }
 },
 "nbformat": 4,
 "nbformat_minor": 2
}
